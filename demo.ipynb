{
 "cells": [
  {
   "cell_type": "markdown",
   "id": "ad55e72a-ff02-474e-a956-bdc73f421337",
   "metadata": {},
   "source": [
    "# LOG8415E: Personal project demo\n",
    "\n",
    "**Before running this notebook it is essential to configure aws credentials in\n",
    "to be able to interact with AWS.**\n",
    "\n",
    "**The shared credentials file has a default location of ~/.aws/credentials.\n",
    "Put your information there.**"
   ]
  },
  {
   "cell_type": "markdown",
   "id": "8d62bcde-fc27-410f-a2f6-8dd10fea740c",
   "metadata": {},
   "source": [
    "## Importing modules and deploying stantalone, cluster and proxy instances"
   ]
  },
  {
   "cell_type": "code",
   "execution_count": null,
   "id": "066b232d-0596-4e8a-bfa8-c5e75a65e02d",
   "metadata": {},
   "outputs": [],
   "source": [
    "import client\n",
    "import mysql_ec2_helper\n",
    "import boto3\n",
    "import os\n",
    "import time\n",
    "import nest_asyncio\n",
    "from fabric import Connection\n",
    "\n",
    "nest_asyncio.apply()"
   ]
  },
  {
   "cell_type": "code",
   "execution_count": null,
   "id": "bd1617dc-88e6-4e50-97f5-146e70b72ac7",
   "metadata": {},
   "outputs": [],
   "source": [
    "mysql_ec2_helper.deploy_standalone()\n",
    "mysql_ec2_helper.deploy_cluster()\n",
    "mysql_ec2_helper.deploy_proxy()"
   ]
  },
  {
   "cell_type": "markdown",
   "id": "697718a8-cc77-43dd-a989-28ed8fc0d7a5",
   "metadata": {},
   "source": [
    "## Standalone instance user data"
   ]
  },
  {
   "cell_type": "raw",
   "id": "819337e0-bb10-43b8-b73a-9c552c3de7a8",
   "metadata": {},
   "source": [
    "#!/bin/bash\n",
    "\n",
    "# update\n",
    "sudo apt update\n",
    "sudo apt -y upgrade\n",
    "\n",
    "# install mysql\n",
    "sudo apt -y install mysql-server\n",
    "\n",
    "# install sakilla db\n",
    "sudo wget http://downloads.mysql.com/docs/sakila-db.tar.gz\n",
    "sudo tar xzf sakila-db.tar.gz -C /tmp/\n",
    "sudo mysql -e \"SOURCE /tmp/sakila-db/sakila-schema.sql;\"\n",
    "sudo mysql -e \"SOURCE /tmp/sakila-db/sakila-data.sql;\"\n",
    "\n",
    "# install sysbench\n",
    "curl -s https://packagecloud.io/install/repositories/akopytov/sysbench/script.deb.sh | sudo bash\n",
    "sudo apt -y install sysbench\n",
    "\n",
    "# mysql_secure_installation\n",
    "sudo mysql -e \"SET PASSWORD FOR root@localhost = PASSWORD('password');FLUSH PRIVILEGES;\"\n",
    "sudo mysql -e \"DELETE FROM mysql.user WHERE User='';\"\n",
    "sudo mysql -e \"DELETE FROM mysql.user WHERE User='root' AND Host NOT IN ('localhost', '127.0.0.1', '::1');\"\n",
    "sudo mysql -e \"DROP DATABASE test;DELETE FROM mysql.db WHERE Db='test' OR Db='test_%';\"\n",
    "\n",
    "# run sysbench\n",
    "sudo mysql -e \"create user sbtest_user identified by 'password'\"\n",
    "sudo mysql -e \"grant all on sakila.* to 'sbtest_user'@'%'\"\n",
    "\n",
    "sysbench \\\n",
    "--db-driver=mysql \\\n",
    "--mysql-user=sbtest_user \\\n",
    "--mysql_password=password \\\n",
    "--mysql-db=sakila \\\n",
    "--mysql-port=3306 \\\n",
    "--tables=16 \\\n",
    "--table-size=10000 \\\n",
    "/usr/share/sysbench/oltp_read_write.lua prepare\n",
    "\n",
    "sysbench \\\n",
    "--db-driver=mysql \\\n",
    "--mysql-user=sbtest_user \\\n",
    "--mysql_password=password \\\n",
    "--mysql-db=sakila \\\n",
    "--mysql-port=3306 \\\n",
    "--tables=16 \\\n",
    "--table-size=10000 \\\n",
    "--threads=8 \\\n",
    "--time=60 \\\n",
    "--events=0 \\\n",
    "--report-interval=1 \\\n",
    "/usr/share/sysbench/oltp_read_write.lua run > /tmp/benchmark_standalone.txt"
   ]
  },
  {
   "cell_type": "markdown",
   "id": "68ab56db-9b9c-479c-b0e6-8f10c741875c",
   "metadata": {
    "tags": []
   },
   "source": [
    "## Slave instance user data"
   ]
  },
  {
   "cell_type": "raw",
   "id": "18a8156a-8e32-48f0-8d21-56e16aa50ab2",
   "metadata": {},
   "source": [
    "#!/bin/bash\n",
    "\n",
    "# update\n",
    "sudo apt update\n",
    "sudo apt -y upgrade\n",
    "\n",
    "# install mysql\n",
    "sudo apt -y install mysql-server default-jre\n",
    "\n",
    "# mysql_secure_installation\n",
    "sudo mysql -e \"SET PASSWORD FOR root@localhost = PASSWORD('password');FLUSH PRIVILEGES;\"\n",
    "sudo mysql -e \"DELETE FROM mysql.user WHERE User='';\"\n",
    "sudo mysql -e \"DELETE FROM mysql.user WHERE User='root' AND Host NOT IN ('localhost', '127.0.0.1', '::1');\"\n",
    "sudo mysql -e \"DROP DATABASE test;DELETE FROM mysql.db WHERE Db='test' OR Db='test_%';\"\n",
    "\n",
    "# configure slave node\n",
    "git clone https://github.com/HarmonicColt4/LOG8415-project.git\n",
    "\n",
    "sudo cp LOG8415-project/mysql-config-files/slave1-mysqld.cnf /etc/mysql/mysql.conf.d/mysqld.cnf\n",
    "\n",
    "sudo systemctl restart mysql\n",
    "\n",
    "# start powerapi on boot\n",
    "cat << 'EOF' > powerapi.sh\n",
    "#!/bin/bash\n",
    "pid=$(pidof mysqld)\n",
    "\n",
    "while [ -z \"$pid\"]\n",
    "do\n",
    "  pid=$(pidof mysqld)\n",
    "  sleep 3\n",
    "done\n",
    "\n",
    "cd /powerapi-cli-4.2.1\n",
    "\n",
    "./bin/powerapi \\\n",
    "    modules procfs-cpu-simple \\\n",
    "    monitor \\\n",
    "      --frequency 1000 \\\n",
    "      --pids $pid \\\n",
    "      --file /tmp/powerapi_slave.txt &\n",
    "EOF\n",
    "\n",
    "chmod +x powerapi.sh\n",
    "\n",
    "crontab -l | { cat; echo \"@reboot /powerapi.sh\"; } | crontab -\n",
    "\n",
    "sudo mysql -e \"STOP SLAVE;\"\n",
    "sudo mysql -e \"CHANGE MASTER TO MASTER_HOST='10.84.15.10', MASTER_USER='slave', MASTER_PASSWORD='password', MASTER_LOG_FILE='mysql-bin.000001', MASTER_LOG_POS=661\"\n",
    "sudo mysql -e \"START SLAVE;\"\n",
    "\n",
    "# launch powerapi\n",
    "wget https://github.com/powerapi-ng/powerapi-scala/releases/download/4.2.1/powerapi-cli-4.2.1.tgz\n",
    "\n",
    "tar xzf powerapi-cli-4.2.1.tgz\n",
    "\n",
    "cd /powerapi-cli-4.2.1\n",
    "\n",
    "cat << EOF >> conf/powerapi.conf\n",
    "powerapi.cpu.tdp = 35\n",
    "powerapi.cpu.tdp-factor = 0.7\n",
    "EOF\n",
    "\n",
    "pid=$(pidof mysqld)\n",
    "\n",
    "./bin/powerapi \\\n",
    "    modules procfs-cpu-simple \\\n",
    "    monitor \\\n",
    "      --frequency 1000 \\\n",
    "      --pids $pid \\\n",
    "      --file /tmp/powerapi_slave.txt &"
   ]
  },
  {
   "cell_type": "markdown",
   "id": "e13bad6f-9aec-41fd-baf6-5fc4b6431009",
   "metadata": {},
   "source": [
    "## Application instance user data"
   ]
  },
  {
   "cell_type": "raw",
   "id": "560eba8a-9aa3-4fab-8eb4-933dfe3cd0fe",
   "metadata": {},
   "source": [
    "#!/bin/bash\n",
    "\n",
    "# update\n",
    "sudo apt update\n",
    "sudo apt upgrade -y\n",
    "\n",
    "# install pip java\n",
    "sudo apt install python3-pip default-jre -y\n",
    "\n",
    "# get powerapi\n",
    "wget https://github.com/powerapi-ng/powerapi-scala/releases/download/4.2.1/powerapi-cli-4.2.1.tgz\n",
    "\n",
    "tar xzf powerapi-cli-4.2.1.tgz\n",
    "\n",
    "cd /powerapi-cli-4.2.1\n",
    "\n",
    "cat << EOF >> conf/powerapi.conf\n",
    "powerapi.cpu.tdp = 35\n",
    "powerapi.cpu.tdp-factor = 0.7\n",
    "EOF\n",
    "\n",
    "# start powerapi on boot\n",
    "cd /\n",
    "\n",
    "cat << 'EOF' > proxy.sh\n",
    "#!/bin/bash\n",
    "python3 /LOG8415-project/proxy/main.py &\n",
    "\n",
    "pid=$(ps aux | grep \"python3.*main\\.py\" | awk 'NR==1{ print $2 }')\n",
    "\n",
    "while [ -z \"$pid\" ]\n",
    "do\n",
    "  pid=$(ps aux | grep \"python3.*main\\.py\" | awk 'NR==1{ print $2 }')\n",
    "  sleep 3\n",
    "done\n",
    "\n",
    "cd /powerapi-cli-4.2.1\n",
    "\n",
    "./bin/powerapi \\\n",
    "    modules procfs-cpu-simple \\\n",
    "    monitor \\\n",
    "      --frequency 1000 \\\n",
    "      --pids $pid \\\n",
    "      --file /tmp/powerapi_proxy.txt &\n",
    "EOF\n",
    "\n",
    "chmod +x proxy.sh\n",
    "\n",
    "crontab -l | { cat; echo \"@reboot /proxy.sh\"; } | crontab -\n",
    "\n",
    "# clone repo\n",
    "git clone https://github.com/HarmonicColt4/LOG8415-project.git\n",
    "\n",
    "# install requirements.txt\n",
    "cd /LOG8415-project/proxy\n",
    "\n",
    "pip install -r requirements.txt\n",
    "\n",
    "# run application\n",
    "python3 main.py &\n",
    "\n",
    "# launch powerapi\n",
    "pid=$(ps aux | grep \"python3.*main\\.py\" | awk 'NR==1{ print $2 }')\n",
    "\n",
    "cd /powerapi-cli-4.2.1\n",
    "\n",
    "./bin/powerapi \\\n",
    "    modules procfs-cpu-simple \\\n",
    "    monitor \\\n",
    "      --frequency 1000 \\\n",
    "      --pids $pid \\\n",
    "      --file /tmp/powerapi_proxy.txt &"
   ]
  },
  {
   "cell_type": "markdown",
   "id": "41209dab-b86b-4a45-b136-381cd01122a2",
   "metadata": {},
   "source": [
    "## Getting benchmark results from standalone instance and deploying gatekeeper"
   ]
  },
  {
   "cell_type": "code",
   "execution_count": null,
   "id": "24ddd718-f646-4b25-a7ed-7339f82575a9",
   "metadata": {},
   "outputs": [],
   "source": [
    "def find_instance_ip(name_tag):\n",
    "    client = boto3.client('ec2')\n",
    "\n",
    "    response = client.describe_instances(\n",
    "        Filters=[\n",
    "            {\n",
    "                'Name': 'tag:Name',\n",
    "                'Values': [name_tag]\n",
    "            }\n",
    "        ]\n",
    "    )\n",
    "\n",
    "    ip = [i['PublicIpAddress'] for r in response['Reservations'] for i in r['Instances'] if i['State']['Name'] == 'running']\n",
    "    \n",
    "    return ip"
   ]
  },
  {
   "cell_type": "code",
   "execution_count": null,
   "id": "975acad8-e0f0-4222-9406-72ce6348b6b2",
   "metadata": {},
   "outputs": [],
   "source": [
    "if not os.path.exists('results'):\n",
    "    os.makedirs('results')\n",
    "    \n",
    "standalone_ip = find_instance_ip('standalone')[0]\n",
    "\n",
    "with Connection(standalone_ip, user='ubuntu', connect_kwargs={'key_filename': 'mysql.pem'}) as c:\n",
    "    c.get('/tmp/benchmark_standalone.txt', local='results/benchmark_standalone.txt')\n",
    "    \n",
    "mysql_ec2_helper.terminate_instance('standalone')\n",
    "\n",
    "mysql_ec2_helper.deploy_gatekeeper()"
   ]
  },
  {
   "cell_type": "markdown",
   "id": "35c2b414-deae-4e2b-b028-eb4270cc000f",
   "metadata": {},
   "source": [
    "## Launching client application for proxy server\n",
    "1. Opens a tcp connection with proxy server on port 5001.\n",
    "2. Reads data file 'people.csv'.\n",
    "3. Sends 'INSERT' SQL requests to database via proxy server.\n",
    "4. Sends 'SELECT' SQL requests to database via proxy server using 3 different modes: direct hit, random and custom\n",
    "6. Saves response times for each mode in results folder.\n",
    "5. Closes tcp connection with proxy server."
   ]
  },
  {
   "cell_type": "code",
   "execution_count": null,
   "id": "d0052fc9-8ee6-4c7d-9496-e5d285991da8",
   "metadata": {},
   "outputs": [],
   "source": [
    "client.main('proxy')"
   ]
  },
  {
   "cell_type": "markdown",
   "id": "f4769b0a-a5e7-4b5b-93ba-39de5861e132",
   "metadata": {},
   "source": [
    "## Getting benchmark results from cluster instances as well as power consumption data"
   ]
  },
  {
   "cell_type": "code",
   "execution_count": null,
   "id": "c58d985c-b9d8-4e35-874a-62b0dee4eac1",
   "metadata": {},
   "outputs": [],
   "source": [
    "master_ip = find_instance_ip('master')[0]\n",
    "slave_1_ip = find_instance_ip('slave')[0]\n",
    "slave_2_ip = find_instance_ip('slave')[1]\n",
    "proxy_ip = find_instance_ip('proxy')[0]\n",
    "\n",
    "with Connection(master_ip, user='ubuntu', connect_kwargs={'key_filename': 'mysql.pem'}) as c:\n",
    "    c.get('/tmp/benchmark_replication.txt', local='results/benchmark_replication.txt')\n",
    "    c.get('/tmp/powerapi_master.txt', local='results/powerapi_master_1.txt')\n",
    "\n",
    "with Connection(slave_1_ip, user='ubuntu', connect_kwargs={'key_filename': 'mysql.pem'}) as c:\n",
    "    c.get('/tmp/powerapi_slave.txt', local='results/powerapi_slave1_1.txt')\n",
    "\n",
    "with Connection(slave_2_ip, user='ubuntu', connect_kwargs={'key_filename': 'mysql.pem'}) as c:\n",
    "    c.get('/tmp/powerapi_slave.txt', local='results/powerapi_slave2_1.txt')\n",
    "\n",
    "with Connection(proxy_ip, user='ubuntu', connect_kwargs={'key_filename': 'mysql.pem'}) as c:\n",
    "    c.get('/tmp/powerapi_proxy.txt', local='results/powerapi_proxy_1.txt')"
   ]
  },
  {
   "cell_type": "markdown",
   "id": "4ca611dd-854a-41a3-950d-93fa21ee8891",
   "metadata": {},
   "source": [
    "## Changing security groups rules for trusted host\n",
    "1. Create a new security group for gatekeeper instance only allowing incoming tcp connections on port 5002.\n",
    "2. Change security group rules for trusted host (proxy instance in my case) as well as cluster instances.\n",
    "3. Rebooting instances for changes to take effect."
   ]
  },
  {
   "cell_type": "code",
   "execution_count": null,
   "id": "dfe5f66b-12cd-4086-b845-a8be17c0c3c6",
   "metadata": {},
   "outputs": [],
   "source": [
    "mysql_ec2_helper.adjust_security_group_rules_with_gatekeeper()\n",
    "\n",
    "mysql_ec2_helper.reboot_instances(['master', 'slave'])\n",
    "time.sleep(5)\n",
    "\n",
    "mysql_ec2_helper.reboot_instances(['proxy'])\n",
    "time.sleep(5)\n",
    "\n",
    "mysql_ec2_helper.reboot_instances(['gatekeeper'])"
   ]
  },
  {
   "cell_type": "markdown",
   "id": "f6c1f649-08cb-4782-b12e-8784d4d5b259",
   "metadata": {},
   "source": [
    "## Launching client application for gatekeeper server\n",
    "1. Opens a tcp connection with gatekeeper server on port 5002.\n",
    "2. Gatekeeper establishes a tcp connection with a trusted host (proxy) on port 5001.\n",
    "2. Reads data file 'people.csv'.\n",
    "3. Sends 'INSERT' SQL requests to database via gatekeeper server.\n",
    "4. Sends 'SELECT' SQL requests to database via gatekeeper server using 3 different modes for proxy: direct hit, random and custom\n",
    "6. Saves response times for each mode in results folder.\n",
    "5. Closes tcp connection with gatekeeper server."
   ]
  },
  {
   "cell_type": "code",
   "execution_count": null,
   "id": "88439e57-e652-4dc4-a6f1-efd365586618",
   "metadata": {},
   "outputs": [],
   "source": [
    "client.main('gatekeeper')"
   ]
  },
  {
   "cell_type": "markdown",
   "id": "6a954bf9-9d1e-48f1-91c8-fac70209a635",
   "metadata": {
    "tags": []
   },
   "source": [
    "## Getting power consumption data from cluster instances as well as proxy and gatekeeper instances"
   ]
  },
  {
   "cell_type": "code",
   "execution_count": null,
   "id": "a3e8f3a3-3ceb-41bf-a998-9037434aef9d",
   "metadata": {},
   "outputs": [],
   "source": [
    "gatekeeper_ip = find_instance_ip('gatekeeper')[0]\n",
    "\n",
    "print(\"Getting results from instances\")\n",
    "with Connection(master_ip, user='ubuntu', connect_kwargs={'key_filename': 'mysql.pem'}) as c:\n",
    "    c.get('/tmp/powerapi_master.txt', local='results/powerapi_master_2.txt')\n",
    "\n",
    "with Connection(slave_1_ip, user='ubuntu', connect_kwargs={'key_filename': 'mysql.pem'}) as c:\n",
    "    c.get('/tmp/powerapi_slave.txt', local='results/powerapi_slave1_2.txt')\n",
    "\n",
    "with Connection(slave_2_ip, user='ubuntu', connect_kwargs={'key_filename': 'mysql.pem'}) as c:\n",
    "    c.get('/tmp/powerapi_slave.txt', local='results/powerapi_slave2_2.txt')\n",
    "\n",
    "with Connection(proxy_ip, user='ubuntu', connect_kwargs={'key_filename': 'mysql.pem'}) as c:\n",
    "    c.get('/tmp/powerapi_proxy.txt', local='results/powerapi_proxy_2.txt')\n",
    "\n",
    "with Connection(gatekeeper_ip, user='ubuntu', connect_kwargs={'key_filename': 'mysql.pem'}) as c:\n",
    "    c.get('/tmp/powerapi_gatekeeper.txt', local='results/powerapi_gatekeeper.txt')"
   ]
  },
  {
   "cell_type": "markdown",
   "id": "919e3aa1-f153-43fc-8d5c-f30d99a9555e",
   "metadata": {},
   "source": [
    "## Stopping instances"
   ]
  },
  {
   "cell_type": "code",
   "execution_count": null,
   "id": "c6101d0d-2d07-44dc-80e2-9e086b0d0485",
   "metadata": {},
   "outputs": [],
   "source": [
    "mysql_ec2_helper.stop_instances(['master', 'slave', 'proxy', 'gatekeeper']) # or mysql_ec2_helper.cleanup()"
   ]
  }
 ],
 "metadata": {
  "kernelspec": {
   "display_name": "Python 3 (ipykernel)",
   "language": "python",
   "name": "python3"
  },
  "language_info": {
   "codemirror_mode": {
    "name": "ipython",
    "version": 3
   },
   "file_extension": ".py",
   "mimetype": "text/x-python",
   "name": "python",
   "nbconvert_exporter": "python",
   "pygments_lexer": "ipython3",
   "version": "3.10.1"
  }
 },
 "nbformat": 4,
 "nbformat_minor": 5
}
